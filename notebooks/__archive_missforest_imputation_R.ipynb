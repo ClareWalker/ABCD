{
 "cells": [
  {
   "cell_type": "markdown",
   "metadata": {},
   "source": [
    "# Impute missing values using missForest\n",
    "Outdated notebook for imputating missing values using missForst (https://cran.r-project.org/web/packages/missForest/missForest.pdf for more info)"
   ]
  },
  {
   "cell_type": "code",
   "execution_count": null,
   "metadata": {},
   "outputs": [],
   "source": [
    "install.packages(\"pacman\")\n",
    "pacman::p_load(\"dplyr\", \"reshape2\", \"qgraph\", \"stringr\", \"bootnet\", \"reshape2\",\n",
    "               \"ggplot2\", \"ggthemes\", \"ggpubr\", \"psych\", \"corpcor\",  \"parallel\", \n",
    "              \"missForest\")"
   ]
  },
  {
   "cell_type": "code",
   "execution_count": 98,
   "metadata": {},
   "outputs": [],
   "source": [
    "dt = read.csv('/Users/clarewalker/Desktop/ABCD/derived/data_meaningful.csv')"
   ]
  },
  {
   "cell_type": "code",
   "execution_count": 85,
   "metadata": {},
   "outputs": [],
   "source": [
    "dt_t <- transform(dt, cct=as.factor(cct))\n",
    "dvs <- select(dt_t, 2:36)"
   ]
  },
  {
   "cell_type": "code",
   "execution_count": null,
   "metadata": {},
   "outputs": [],
   "source": [
    "# https://rpubs.com/lmorgan95/MissForest\n",
    "doParallel::registerDoParallel(cores = 4) # set based on number of CPU cores\n",
    "doRNG::registerDoRNG(seed = 123)\n",
    "missForest_v0 <- missForest(X, parallelize = 'forests') # set maxiter = 2\n",
    "imputed <- missForest_v0$ximp\n",
    "missForest_v0$OOBerror"
   ]
  },
  {
   "cell_type": "code",
   "execution_count": 87,
   "metadata": {},
   "outputs": [
    {
     "name": "stdout",
     "output_type": "stream",
     "text": [
      "  missForest iteration 1 in progress...done!\n",
      "    estimated error(s): 0.7937308 0.4168647 \n",
      "    difference(s): 0.01987545 0.002571844 \n",
      "    time: 850.621 seconds\n",
      "\n",
      "  missForest iteration 2 in progress...done!\n",
      "    estimated error(s): 0.7832114 0.3891341 \n",
      "    difference(s): 0.004131832 0.002012747 \n",
      "    time: 55521.01 seconds\n",
      "\n",
      "  missForest iteration 3 in progress...done!\n",
      "    estimated error(s): 0.7834901 0.3813243 \n",
      "    difference(s): 0.002509395 0.00156547 \n",
      "    time: 992.138 seconds\n",
      "\n",
      "  missForest iteration 4 in progress...done!\n",
      "    estimated error(s): 0.7840009 0.3821166 \n",
      "    difference(s): 0.002130975 0.002124567 \n",
      "    time: 902.16 seconds\n",
      "\n",
      "  missForest iteration 5 in progress...done!\n",
      "    estimated error(s): 0.7834641 0.3814375 \n",
      "    difference(s): 0.002075102 0.002012747 \n",
      "    time: 855.633 seconds\n",
      "\n",
      "  missForest iteration 6 in progress...done!\n",
      "    estimated error(s): 0.7835547 0.3857385 \n",
      "    difference(s): 0.00208947 0.00167729 \n",
      "    time: 858.805 seconds\n",
      "\n",
      "  missForest iteration 7 in progress...done!\n",
      "    estimated error(s): 0.7839662 0.3877759 \n",
      "    difference(s): 0.002027827 0.002012747 \n",
      "    time: 855.746 seconds\n",
      "\n",
      "  missForest iteration 8 in progress...done!\n",
      "    estimated error(s): 0.7840548 0.3827957 \n",
      "    difference(s): 0.001999532 0.00167729 \n",
      "    time: 2335.069 seconds\n",
      "\n",
      "  missForest iteration 9 in progress...done!\n",
      "    estimated error(s): 0.7831298 0.3868704 \n",
      "    difference(s): 0.002008226 0.002795483 \n",
      "    time: 1005.639 seconds\n",
      "\n"
     ]
    }
   ],
   "source": [
    "dvs_imp <- missForest(dvs, verbose=TRUE)$ximp"
   ]
  },
  {
   "cell_type": "code",
   "execution_count": 71,
   "metadata": {},
   "outputs": [
    {
     "data": {
      "text/html": [
       "0.112006761778848"
      ],
      "text/latex": [
       "0.112006761778848"
      ],
      "text/markdown": [
       "0.112006761778848"
      ],
      "text/plain": [
       "[1] 0.1120068"
      ]
     },
     "metadata": {},
     "output_type": "display_data"
    }
   ],
   "source": [
    "sum(is.na(dt)) / (8943 * 34)"
   ]
  },
  {
   "cell_type": "code",
   "execution_count": 92,
   "metadata": {},
   "outputs": [
    {
     "data": {
      "text/html": [
       "0"
      ],
      "text/latex": [
       "0"
      ],
      "text/markdown": [
       "0"
      ],
      "text/plain": [
       "[1] 0"
      ]
     },
     "metadata": {},
     "output_type": "display_data"
    }
   ],
   "source": [
    "sum(is.na(dvs_imp)) / (8943 * 34)"
   ]
  },
  {
   "cell_type": "code",
   "execution_count": 99,
   "metadata": {},
   "outputs": [],
   "source": [
    "dvs_imp$subject <- dt$subject"
   ]
  },
  {
   "cell_type": "code",
   "execution_count": 106,
   "metadata": {},
   "outputs": [],
   "source": [
    "dvs_imp <- dvs_imp[,c(36, 0:35)]"
   ]
  },
  {
   "cell_type": "code",
   "execution_count": 108,
   "metadata": {},
   "outputs": [],
   "source": [
    "write.csv(dvs_imp, '/Users/clarewalker/Desktop/ABCD/derived/data_imputed.csv', row.names = FALSE)"
   ]
  }
 ],
 "metadata": {
  "kernelspec": {
   "display_name": "R",
   "language": "R",
   "name": "ir"
  },
  "language_info": {
   "codemirror_mode": "r",
   "file_extension": ".r",
   "mimetype": "text/x-r-source",
   "name": "R",
   "pygments_lexer": "r",
   "version": "4.1.0"
  }
 },
 "nbformat": 4,
 "nbformat_minor": 4
}
