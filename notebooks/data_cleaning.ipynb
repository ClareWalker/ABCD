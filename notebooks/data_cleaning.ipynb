{
 "cells": [
  {
   "cell_type": "markdown",
   "id": "3552739e",
   "metadata": {},
   "source": [
    "# Data cleaning\n",
    "The data cleaning pipeline has four stages:\n",
    "1. remove outliers using a) interquartile ratio with cutoff of 2.5 and b) \"natural\" bounds from other research or experimental design\n",
    "2. standardize continuous variables using StandardScaler\n",
    "3. calculate interaction terms based, e.g. between anxiety and depression\n",
    "4. propogate fixed demographic variables captured at baseline across subsequent timelines\n",
    "\n",
    "The target variables for each step are specified in `cleaning.py` and interaction functions are defined in `interactions.py`. It is straightforward to edit either of these files to add/remove variables and interactions.\n",
    "\n",
    "Notes on definition of a priori bounds and raw distributions of each variable can be found in this google doc: https://docs.google.com/document/d/1-m_O8VCCq6M2dacm8rz9VW5QbgtNk3xpaAzX3wQObpg/edit"
   ]
  },
  {
   "cell_type": "code",
   "execution_count": null,
   "id": "1fccdd41",
   "metadata": {},
   "outputs": [],
   "source": [
    "import pandas as pd\n",
    "import seaborn as sns\n",
    "from datetime import date\n",
    "import matplotlib.pyplot as plt\n",
    "import numpy as np\n",
    "pd.set_option('display.max_columns', None)\n",
    "pd.options.display.float_format = '{:,.2f}'.format"
   ]
  },
  {
   "cell_type": "code",
   "execution_count": 32,
   "id": "18f6d984",
   "metadata": {},
   "outputs": [],
   "source": [
    "# note: in this version, tb_cryst and tb_fluid have been commented out of standardize_vars in cleaning.py \n",
    "!cd ../scripts\n",
    "from data_cleaning import remove_outlier_bounds, remove_outlier_IQR, standardize, outlier_vars, standardize_vars, fixed_vars\n",
    "from interactions import add_interactions"
   ]
  },
  {
   "cell_type": "code",
   "execution_count": 4,
   "id": "e8e6da45",
   "metadata": {},
   "outputs": [],
   "source": [
    "raw_data = '../raw/'\n",
    "derived_data = '../derived/'"
   ]
  },
  {
   "cell_type": "code",
   "execution_count": 5,
   "id": "e10b7b58",
   "metadata": {},
   "outputs": [],
   "source": [
    "version_old = '20211206'\n",
    "version_new = date.today().strftime('%Y%m%d')"
   ]
  },
  {
   "cell_type": "code",
   "execution_count": 17,
   "id": "7876283e",
   "metadata": {},
   "outputs": [],
   "source": [
    "data = pd.read_csv(f'{derived_data}{version_old}/task_demo_outcomes_panel.csv')\n",
    "data.drop(columns=['Unnamed: 0'], inplace=True)"
   ]
  },
  {
   "cell_type": "code",
   "execution_count": 18,
   "id": "02125212",
   "metadata": {},
   "outputs": [],
   "source": [
    "data_clean = data.copy()"
   ]
  },
  {
   "cell_type": "markdown",
   "id": "d8782827",
   "metadata": {},
   "source": [
    "# Remove outliers"
   ]
  },
  {
   "cell_type": "code",
   "execution_count": 8,
   "id": "394c7e13",
   "metadata": {},
   "outputs": [],
   "source": [
    "# for IQR outlier removal\n",
    "outliers = list(outlier_vars.keys())\n",
    "data_clean[outliers] = remove_outlier_IQR(data_clean[outliers], cutoff=2.5)"
   ]
  },
  {
   "cell_type": "code",
   "execution_count": 19,
   "id": "e1acc0fd",
   "metadata": {},
   "outputs": [],
   "source": [
    "# for logical/prior bounds outlier removal\n",
    "for var, bounds in outlier_vars.items():\n",
    "    data_clean[var] = remove_outlier_bounds(data_clean[var], bounds)"
   ]
  },
  {
   "cell_type": "code",
   "execution_count": 20,
   "id": "79bfb654",
   "metadata": {},
   "outputs": [],
   "source": [
    "t0 = data_clean.query('time == 0').reset_index(drop=True)\n",
    "t1 = data_clean.query('time == 1').reset_index(drop=True)\n",
    "t2 = data_clean.query('time == 2').reset_index(drop=True)\n",
    "t3 = data_clean.query('time == 3').reset_index(drop=True)"
   ]
  },
  {
   "cell_type": "markdown",
   "id": "31a8a405",
   "metadata": {},
   "source": [
    "# Standardize"
   ]
  },
  {
   "cell_type": "code",
   "execution_count": 21,
   "id": "82559b44",
   "metadata": {},
   "outputs": [],
   "source": [
    "t0[standardize_vars] = standardize(t0[standardize_vars])\n",
    "t1[standardize_vars] = standardize(t1[standardize_vars])\n",
    "t2[standardize_vars] = standardize(t2[standardize_vars])\n",
    "t3[standardize_vars] = standardize(t3[standardize_vars])"
   ]
  },
  {
   "cell_type": "markdown",
   "id": "a9e5d08a",
   "metadata": {},
   "source": [
    "# Calculate interactions"
   ]
  },
  {
   "cell_type": "code",
   "execution_count": 22,
   "id": "4f45ac8d",
   "metadata": {},
   "outputs": [],
   "source": [
    "t0 = add_interactions(t0).copy()\n",
    "t1 = add_interactions(t1).copy()\n",
    "t2 = add_interactions(t2).copy()\n",
    "t3 = add_interactions(t3).copy()"
   ]
  },
  {
   "cell_type": "markdown",
   "id": "2763cf86",
   "metadata": {},
   "source": [
    "# Propogate fixed variables"
   ]
  },
  {
   "cell_type": "code",
   "execution_count": 23,
   "id": "9857d37e",
   "metadata": {},
   "outputs": [],
   "source": [
    "fixed = t0[['subject']+fixed_vars].copy()\n",
    "t0.drop(columns=fixed_vars, inplace=True)\n",
    "t1.drop(columns=fixed_vars, inplace=True)\n",
    "t2.drop(columns=fixed_vars, inplace=True)\n",
    "t3.drop(columns=fixed_vars, inplace=True)"
   ]
  },
  {
   "cell_type": "code",
   "execution_count": 24,
   "id": "22ebe059",
   "metadata": {},
   "outputs": [],
   "source": [
    "t0 = pd.merge(t0, fixed, on=['subject'], how='outer')\n",
    "t1 = pd.merge(t1, fixed, on=['subject'], how='outer')\n",
    "t2 = pd.merge(t2, fixed, on=['subject'], how='outer')\n",
    "t3 = pd.merge(t3, fixed, on=['subject'], how='outer')"
   ]
  },
  {
   "cell_type": "code",
   "execution_count": 25,
   "id": "237262e4",
   "metadata": {},
   "outputs": [],
   "source": [
    "data_clean_std = t0.append(t1)\n",
    "data_clean_std = data_clean_std.append(t2)\n",
    "data_clean_std = data_clean_std.append(t3)"
   ]
  },
  {
   "cell_type": "code",
   "execution_count": 26,
   "id": "bbad6e4f",
   "metadata": {},
   "outputs": [
    {
     "data": {
      "text/plain": [
       "(47504, 504)"
      ]
     },
     "execution_count": 26,
     "metadata": {},
     "output_type": "execute_result"
    }
   ],
   "source": [
    "data_clean_std.shape"
   ]
  },
  {
   "cell_type": "code",
   "execution_count": 27,
   "id": "24034d8e",
   "metadata": {},
   "outputs": [],
   "source": [
    "data_clean_std.to_csv(f'{derived_data}{version_new}/data_clean_bounds_{version_new}.csv')"
   ]
  },
  {
   "cell_type": "code",
   "execution_count": 30,
   "id": "ff069eef",
   "metadata": {},
   "outputs": [
    {
     "data": {
      "text/html": [
       "<div>\n",
       "<style scoped>\n",
       "    .dataframe tbody tr th:only-of-type {\n",
       "        vertical-align: middle;\n",
       "    }\n",
       "\n",
       "    .dataframe tbody tr th {\n",
       "        vertical-align: top;\n",
       "    }\n",
       "\n",
       "    .dataframe thead th {\n",
       "        text-align: right;\n",
       "    }\n",
       "</style>\n",
       "<table border=\"1\" class=\"dataframe\">\n",
       "  <thead>\n",
       "    <tr style=\"text-align: right;\">\n",
       "      <th></th>\n",
       "      <th>tb_cryst</th>\n",
       "      <th>tb_fluid</th>\n",
       "    </tr>\n",
       "  </thead>\n",
       "  <tbody>\n",
       "    <tr>\n",
       "      <th>count</th>\n",
       "      <td>19,004.00</td>\n",
       "      <td>11,551.00</td>\n",
       "    </tr>\n",
       "    <tr>\n",
       "      <th>mean</th>\n",
       "      <td>104.50</td>\n",
       "      <td>95.56</td>\n",
       "    </tr>\n",
       "    <tr>\n",
       "      <th>std</th>\n",
       "      <td>17.79</td>\n",
       "      <td>17.36</td>\n",
       "    </tr>\n",
       "    <tr>\n",
       "      <th>min</th>\n",
       "      <td>33.00</td>\n",
       "      <td>37.00</td>\n",
       "    </tr>\n",
       "    <tr>\n",
       "      <th>25%</th>\n",
       "      <td>90.00</td>\n",
       "      <td>84.00</td>\n",
       "    </tr>\n",
       "    <tr>\n",
       "      <th>50%</th>\n",
       "      <td>103.00</td>\n",
       "      <td>95.00</td>\n",
       "    </tr>\n",
       "    <tr>\n",
       "      <th>75%</th>\n",
       "      <td>116.00</td>\n",
       "      <td>107.00</td>\n",
       "    </tr>\n",
       "    <tr>\n",
       "      <th>max</th>\n",
       "      <td>197.00</td>\n",
       "      <td>211.00</td>\n",
       "    </tr>\n",
       "  </tbody>\n",
       "</table>\n",
       "</div>"
      ],
      "text/plain": [
       "       tb_cryst  tb_fluid\n",
       "count 19,004.00 11,551.00\n",
       "mean     104.50     95.56\n",
       "std       17.79     17.36\n",
       "min       33.00     37.00\n",
       "25%       90.00     84.00\n",
       "50%      103.00     95.00\n",
       "75%      116.00    107.00\n",
       "max      197.00    211.00"
      ]
     },
     "execution_count": 30,
     "metadata": {},
     "output_type": "execute_result"
    }
   ],
   "source": [
    "data_clean_std[['tb_cryst', 'tb_fluid']].describe()"
   ]
  }
 ],
 "metadata": {
  "kernelspec": {
   "display_name": "Python 3 (ipykernel)",
   "language": "python",
   "name": "python3"
  },
  "language_info": {
   "codemirror_mode": {
    "name": "ipython",
    "version": 3
   },
   "file_extension": ".py",
   "mimetype": "text/x-python",
   "name": "python",
   "nbconvert_exporter": "python",
   "pygments_lexer": "ipython3",
   "version": "3.9.7"
  }
 },
 "nbformat": 4,
 "nbformat_minor": 5
}
