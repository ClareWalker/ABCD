{
 "cells": [
  {
   "cell_type": "markdown",
   "metadata": {},
   "source": [
    "# Data preparation\n",
    "This notebook extracts and renames columns from csv files at each time point: baseline, 1_year, 2_year, 3_year. The configurations for which columns to extract are located in `specifications.py` as a named tuple - this is where to look if you'd like to make any changes. Minimal data processing occurs at this stage. It is limited to removing void answers, excluding cognitive task variables with unacceptable performance (indicated by flags), and deriving a few mean or ratio fields. These can be found `data_preparation.py`. \n",
    "\n",
    "This google doc outlines which scales have been extracted and calculated: https://docs.google.com/document/d/1-TspbHm00e0Gw14p7WJBpR-8cJYCTR_BLB0qNnVFDz0/edit#"
   ]
  },
  {
   "cell_type": "code",
   "execution_count": null,
   "metadata": {},
   "outputs": [],
   "source": [
    "import pandas as pd\n",
    "import numpy as np\n",
    "from datetime import date\n",
    "from data_preparation import get_cognitive_tasks, get_demographics, get_outcomes, get_neuraldata"
   ]
  },
  {
   "cell_type": "code",
   "execution_count": 2,
   "metadata": {},
   "outputs": [],
   "source": [
    "raw_data = '../raw/'\n",
    "derived_data = '../derived/'"
   ]
  },
  {
   "cell_type": "code",
   "execution_count": 4,
   "metadata": {},
   "outputs": [],
   "source": [
    "version_old = '20211118'\n",
    "version_new = date.today().strftime('%Y%m%d')\n",
    "cct_df = pd.read_csv(f'{raw_data}cct01.txt', delimiter='\\t')\n",
    "subjects = cct_df.subjectkey.unique()[1:]"
   ]
  },
  {
   "cell_type": "code",
   "execution_count": null,
   "metadata": {},
   "outputs": [],
   "source": [
    "for period in ['baseline', '1_year', '2_year', '3_year']:\n",
    "    tasks = get_cognitive_tasks(subjects=subjects, period=period, version=version_new, load_latest=False)\n",
    "    demo = get_demographics(subjects=subjects, period=period, version=version_new, load_latest=False)\n",
    "    neural = get_neuraldata(subjects=subjects, period=period, version=version_new, load_latest=False)\n",
    "    outcomes = get_outcomes(subjects=subjects, period=period, version=version_new, load_latest=False)\n",
    "    \n",
    "    data = pd.DataFrame(subjects, columns=['subject'])\n",
    "    data = pd.merge(data, tasks, on=['subject'], how='left')\n",
    "    data = pd.merge(data, demo, on=['subject'], how='left')\n",
    "    data = pd.merge(data, neural, on=['subject'], how='left')\n",
    "    data = pd.merge(data, outcomes, on=['subject'], how='left')\n",
    "    print(data.shape)\n",
    "    \n",
    "    data.to_csv(f'{derived_data}{version_new}/data_{period}.csv', index_label=False)\n",
    "    \n",
    "    if period == \"baseline\":\n",
    "        baseline = data.copy()\n",
    "        baseline.insert(1, 'time', 0)\n",
    "    elif period == '1_year':\n",
    "        one_year = data.copy()\n",
    "        one_year.insert(1, 'time', 1)\n",
    "    elif period == '2_year':\n",
    "        two_year = data.copy()\n",
    "        two_year.insert(1, 'time', 2)  \n",
    "    else:\n",
    "        three_year = data.copy()\n",
    "        three_year.insert(1, 'time', 3) "
   ]
  },
  {
   "cell_type": "markdown",
   "metadata": {},
   "source": [
    "# Panel data"
   ]
  },
  {
   "cell_type": "code",
   "execution_count": 35,
   "metadata": {},
   "outputs": [],
   "source": [
    "merged = baseline.append(one_year)\n",
    "merged = merged.append(two_year)\n",
    "merged = merged.append(three_year)\n",
    "merged = merged.sort_values(by=['subject', 'time'])\n",
    "merged.to_csv(f'{derived_data}{version_new}/task_demo_outcomes_panel.csv')"
   ]
  },
  {
   "cell_type": "code",
   "execution_count": null,
   "metadata": {},
   "outputs": [],
   "source": [
    "merged.shape"
   ]
  },
  {
   "cell_type": "markdown",
   "metadata": {},
   "source": [
    "# Aggregated data"
   ]
  },
  {
   "cell_type": "code",
   "execution_count": 36,
   "metadata": {},
   "outputs": [],
   "source": [
    "aggregated = merged.groupby(['subject', 'sex']).mean().reset_index(drop=False)\n",
    "aggregated.drop(columns=['time'], inplace=True)\n",
    "aggregated.to_csv(f'{derived_data}{version_new}/task_demo_outcomes_aggregated.csv')"
   ]
  },
  {
   "cell_type": "code",
   "execution_count": null,
   "metadata": {},
   "outputs": [],
   "source": [
    "aggregated.shape"
   ]
  }
 ],
 "metadata": {
  "kernelspec": {
   "display_name": "Python 3 (ipykernel)",
   "language": "python",
   "name": "python3"
  },
  "language_info": {
   "codemirror_mode": {
    "name": "ipython",
    "version": 3
   },
   "file_extension": ".py",
   "mimetype": "text/x-python",
   "name": "python",
   "nbconvert_exporter": "python",
   "pygments_lexer": "ipython3",
   "version": "3.9.7"
  }
 },
 "nbformat": 4,
 "nbformat_minor": 4
}
