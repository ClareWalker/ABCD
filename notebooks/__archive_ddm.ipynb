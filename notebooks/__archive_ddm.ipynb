{
 "cells": [
  {
   "cell_type": "markdown",
   "metadata": {
    "id": "Fdd_gV2AMoaZ"
   },
   "source": [
    "# Drift diffusion modelling of two-choice tasks\n",
    "This notebook contains exploratory/preliminary drift-diffusion modelling of forced two-chioce tasks from trial by trial cognitive data. Three versions are implemented:\n",
    "1. EZ ddm - analytical solution utilizing percent correct, mean RT for correct trials, and variance RT for correct trials and validity of results depends on fairly stringent assumptions\n",
    "2. Hierachical ddm - estimates population/group-level parameters as well as individual-level parameters following Bayesian principles, markov chain monte carlo simulation is used to sample parameters from candidate distributions to identify one best fitting the data (http://ski.clps.brown.edu/hddm_docs/ for more info)\n",
    "3. Generalized ddm - flexible model which enables assumptions of multiple distributions for each parameter, implemented and described in PyDDM package (https://pyddm.readthedocs.io/en/latest/ for more info)\n",
    "\n",
    "Dependencies: `hddm`, `ipyparallel`, `paranoid-scientist`, `pyddm`\n",
    "\n"
   ]
  },
  {
   "cell_type": "code",
   "execution_count": null,
   "metadata": {
    "id": "3hsuJVt1wbm3"
   },
   "outputs": [],
   "source": [
    "# libraries\n",
    "import numpy as np\n",
    "from numpy import linspace\n",
    "import pandas as pd\n",
    "import seaborn as sns\n",
    "import glob\n",
    "import random\n",
    "import matplotlib.pyplot as plt\n",
    "from scipy.stats import gaussian_kde\n",
    "import ipyparallel\n",
    "import hddm\n",
    "from ddm import Model, Fittable, Sample\n",
    "from ddm.functions import fit_adjust_model, display_model\n",
    "from ddm.models import NoiseConstant, BoundConstant, OverlayChain, OverlayNonDecision, OverlayPoissonMixture, DriftConstant"
   ]
  },
  {
   "cell_type": "code",
   "execution_count": null,
   "metadata": {},
   "outputs": [],
   "source": [
    "folder = '../ddm'"
   ]
  },
  {
   "cell_type": "code",
   "execution_count": null,
   "metadata": {
    "id": "PFJHOZG9ia50"
   },
   "outputs": [],
   "source": [
    "def plot_corr(d): \n",
    "  sns.set_theme(style=\"white\")\n",
    "  corr = d.corr()\n",
    "\n",
    "  # Generate a mask for the upper triangle\n",
    "  mask = np.triu(np.ones_like(corr, dtype=bool))\n",
    "\n",
    "  # Set up the matplotlib figure\n",
    "  f, ax = plt.subplots(figsize=(11, 9))\n",
    "\n",
    "  # Generate a custom diverging colormap\n",
    "  cmap = sns.diverging_palette(230, 20, as_cmap=True)\n",
    "\n",
    "  # Draw the heatmap with the mask and correct aspect ratio\n",
    "  sns.heatmap(corr, mask=mask, cmap=cmap, vmax=1, vmin=-1, center=0,\n",
    "              square=True, linewidths=.5, cbar_kws={\"shrink\": .5})\n",
    "    \n",
    "def EZ_data(data, s=1):\n",
    "    \"\"\"\n",
    "    Calculate Wagenmaker's EZ-diffusion statistics on data.\n",
    "    :Arguments:\n",
    "       data : numpy.array\n",
    "           Data array with reaction time data. Correct RTs\n",
    "           are positive, incorrect RTs are negative.\n",
    "       s : float\n",
    "           Scaling parameter (default=1)\n",
    "    :Returns:\n",
    "      (v, a, ter) : tuple\n",
    "          drift-rate, threshold and non-decision time\n",
    "    :See Also: EZ\n",
    "    \"\"\"\n",
    "\n",
    "    try:\n",
    "        rt = data[\"rt\"]\n",
    "    except ValueError:\n",
    "        rt = data\n",
    "\n",
    "    # Compute statistics over data\n",
    "    idx_correct = rt > 0\n",
    "    mrt = np.mean(rt[idx_correct])\n",
    "    vrt = np.var(rt[idx_correct])\n",
    "    pc = np.sum(idx_correct) / np.float(rt.shape[0])\n",
    "\n",
    "    # Calculate EZ estimates.\n",
    "    return EZ(pc, vrt, mrt, s)\n",
    "\n",
    "\n",
    "def EZ(pc, vrt, mrt, s=1):\n",
    "    \"\"\"\n",
    "    Calculate Wagenmaker's EZ-diffusion statistics.\n",
    "    :Parameters:\n",
    "        pc : float\n",
    "            probability correct.\n",
    "        vrt : float\n",
    "            variance of response time for correct decisions (only!).\n",
    "        mrt : float\n",
    "            mean response time for correct decisions (only!).\n",
    "        s : float\n",
    "            scaling parameter. Default s=1.\n",
    "    :Returns:\n",
    "        (v, a, ter) : tuple\n",
    "             drift-rate, threshold and non-decision time\n",
    "    The error RT distribution is assumed identical to the correct RT distrib.\n",
    "    Edge corrections are required for cases with Pc=0 or Pc=1. (Pc=.5 is OK)\n",
    "    :Assumptions:\n",
    "        * The error RT distribution is identical to the correct RT distrib.\n",
    "        * z=.5 -- starting point is equidistant from the response boundaries\n",
    "        * sv=0 -- across-trial variability in drift rate is negligible\n",
    "        * sz=0  -- across-trial variability in starting point is negligible\n",
    "        * st=0  -- across-trial range in nondecision time is negligible\n",
    "    :Reference:\n",
    "        Wagenmakers, E.-J., van der Maas, H. Li. J., & Grasman, R. (2007).\n",
    "        An EZ-diffusion model for response time and accuracy.\n",
    "        Psychonomic Bulletin & Review, 14 (1), 3-22.\n",
    "    :Example:\n",
    "        >>> EZ(.802, .112, .723, s=.1)\n",
    "        (0.099938526231301769, 0.13997020267583737, 0.30002997230248141)\n",
    "    :See Also: EZ_data\n",
    "    \"\"\"\n",
    "    if pc == 0 or pc == 0.5 or pc == 1:\n",
    "        raise ValueError(\"Probability correct is either 0%, 50% or 100%\")\n",
    "\n",
    "    s2 = s ** 2\n",
    "    logit_p = np.log(pc / (1 - pc))\n",
    "\n",
    "    # Eq. 7\n",
    "    x = (logit_p * (pc ** 2 * logit_p - pc * logit_p + pc - 0.5)) / vrt\n",
    "    v = np.sign(pc - 0.5) * s * x ** 0.25\n",
    "    # Eq 5\n",
    "    a = (s2 * logit_p) / v\n",
    "\n",
    "    y = (-v * a) / s2\n",
    "    # Eq 9\n",
    "    mdt = (a / (2 * v)) * ((1 - np.exp(y)) / (1 + np.exp(y)))\n",
    "\n",
    "    # Eq 8\n",
    "    ter = mrt - mdt\n",
    "\n",
    "    return (v, a, ter)\n"
   ]
  },
  {
   "cell_type": "markdown",
   "metadata": {},
   "source": [
    "# Reaction time distribution plot"
   ]
  },
  {
   "cell_type": "code",
   "execution_count": null,
   "metadata": {
    "id": "AMb8PBD6mV2j"
   },
   "outputs": [],
   "source": [
    "lmt = pd.read_csv(f'{folder}lmt_data.csv')"
   ]
  },
  {
   "cell_type": "code",
   "execution_count": null,
   "metadata": {
    "id": "N7GF1ueFm0r-"
   },
   "outputs": [],
   "source": [
    "lmt.drop(columns=['Unnamed: 0'], inplace=True)"
   ]
  },
  {
   "cell_type": "code",
   "execution_count": null,
   "metadata": {
    "colab": {
     "base_uri": "https://localhost:8080/",
     "height": 235
    },
    "id": "xH-HCFZIWhPX",
    "outputId": "9cdd3f14-ba66-429e-fda0-d488cb2df466"
   },
   "outputs": [
    {
     "data": {
      "text/html": [
       "<div>\n",
       "<style scoped>\n",
       "    .dataframe tbody tr th:only-of-type {\n",
       "        vertical-align: middle;\n",
       "    }\n",
       "\n",
       "    .dataframe tbody tr th {\n",
       "        vertical-align: top;\n",
       "    }\n",
       "\n",
       "    .dataframe thead th {\n",
       "        text-align: right;\n",
       "    }\n",
       "</style>\n",
       "<table border=\"1\" class=\"dataframe\">\n",
       "  <thead>\n",
       "    <tr style=\"text-align: right;\">\n",
       "      <th></th>\n",
       "      <th>response</th>\n",
       "      <th>rt</th>\n",
       "    </tr>\n",
       "    <tr>\n",
       "      <th>subj_idx</th>\n",
       "      <th></th>\n",
       "      <th></th>\n",
       "    </tr>\n",
       "  </thead>\n",
       "  <tbody>\n",
       "    <tr>\n",
       "      <th>NDAR_INV003RTV85</th>\n",
       "      <td>28</td>\n",
       "      <td>28</td>\n",
       "    </tr>\n",
       "    <tr>\n",
       "      <th>NDAR_INV007W6H7B</th>\n",
       "      <td>29</td>\n",
       "      <td>29</td>\n",
       "    </tr>\n",
       "    <tr>\n",
       "      <th>NDAR_INV00BD7VDC</th>\n",
       "      <td>32</td>\n",
       "      <td>32</td>\n",
       "    </tr>\n",
       "    <tr>\n",
       "      <th>NDAR_INV00CY2MDM</th>\n",
       "      <td>29</td>\n",
       "      <td>29</td>\n",
       "    </tr>\n",
       "    <tr>\n",
       "      <th>NDAR_INV00HEV6HB</th>\n",
       "      <td>30</td>\n",
       "      <td>30</td>\n",
       "    </tr>\n",
       "  </tbody>\n",
       "</table>\n",
       "</div>"
      ],
      "text/plain": [
       "                  response  rt\n",
       "subj_idx                      \n",
       "NDAR_INV003RTV85        28  28\n",
       "NDAR_INV007W6H7B        29  29\n",
       "NDAR_INV00BD7VDC        32  32\n",
       "NDAR_INV00CY2MDM        29  29\n",
       "NDAR_INV00HEV6HB        30  30"
      ]
     },
     "execution_count": 15,
     "metadata": {},
     "output_type": "execute_result"
    }
   ],
   "source": [
    "lmt.groupby(\"subj_idx\").count()[:5]"
   ]
  },
  {
   "cell_type": "code",
   "execution_count": null,
   "metadata": {
    "id": "yx1W59gav3gF"
   },
   "outputs": [],
   "source": [
    "lmt_test = lmt.iloc[:50000,].copy()\n",
    "lmt_c = np.where(lmt_test.response == 1, lmt_test.rt, np.nan)\n",
    "lmt_ic = np.where(lmt_test.response == 0.0, lmt_test.rt, np.nan)\n",
    "lmt_ic = lmt_ic[~np.isnan(lmt_ic)]"
   ]
  },
  {
   "cell_type": "code",
   "execution_count": null,
   "metadata": {
    "colab": {
     "base_uri": "https://localhost:8080/",
     "height": 502
    },
    "id": "x_wP3H8apklD",
    "outputId": "ccc11ae9-d647-4359-b7f2-7162d53e2085"
   },
   "outputs": [
    {
     "data": {
      "image/png": "[encoded data removed]",
      "text/plain": [
       "<Figure size 864x576 with 1 Axes>"
      ]
     },
     "metadata": {},
     "output_type": "display_data"
    }
   ],
   "source": [
    "\n",
    "# Fig size\n",
    "plt.rcParams[\"figure.figsize\"]=12,8\n",
    "\n",
    "# plot density chart for var1\n",
    "sns.kdeplot(data=lmt_c,  fill=True, alpha=1)\n",
    "\n",
    "# plot density chart for var2\n",
    "kde = gaussian_kde(lmt_ic)\n",
    "x_range = linspace(min(lmt_ic), max(lmt_ic), len(lmt_ic))\n",
    "\n",
    "# multiply by -1 to reverse axis (mirror plot)\n",
    "sns.lineplot(x=x_range, y=kde(x_range) * -1, color='orange') \n",
    "plt.fill_between(x_range, kde(x_range) * -1, color='orange')\n",
    "\n",
    "# add axis names        \n",
    "plt.xlabel(\"value of x\")\n",
    "plt.axhline(y=0, linestyle='-',linewidth=1, color='black')\n",
    "\n",
    "\n",
    "\n",
    "# show the graph\n",
    "plt.show()"
   ]
  },
  {
   "cell_type": "markdown",
   "metadata": {
    "id": "n5bdOxMKwvq9"
   },
   "source": [
    "# EZ"
   ]
  },
  {
   "cell_type": "code",
   "execution_count": null,
   "metadata": {
    "id": "F4s9lKS8WU-n"
   },
   "outputs": [],
   "source": [
    "lmt_test = lmt.query('subj_idx == \"NDAR_INV0PJ81CA5\"').copy()\n",
    "lmt_test.rt = lmt_test.rt/1000"
   ]
  },
  {
   "cell_type": "code",
   "execution_count": null,
   "metadata": {
    "id": "Msqw4doPi6gk"
   },
   "outputs": [],
   "source": [
    "lmt_ez = lmt_test.copy()\n",
    "lmt_ez.rt = np.where(lmt_ez.response == 1,lmt_ez.rt, -lmt_ez.rt)"
   ]
  },
  {
   "cell_type": "code",
   "execution_count": null,
   "metadata": {
    "colab": {
     "base_uri": "https://localhost:8080/",
     "height": 501
    },
    "id": "KalmxbFsTSCP",
    "outputId": "7a99255f-b591-4710-95b3-65bcb964f7c3"
   },
   "outputs": [
    {
     "data": {
      "text/plain": [
       "(1.746, 4.287)"
      ]
     },
     "execution_count": 70,
     "metadata": {},
     "output_type": "execute_result"
    },
    {
     "data": {
      "image/png": "[encoded data removed]",
      "text/plain": [
       "<Figure size 864x576 with 2 Axes>"
      ]
     },
     "metadata": {
      "needs_background": "light"
     },
     "output_type": "display_data"
    }
   ],
   "source": [
    "fig, axs = plt.subplots(1,2)\n",
    "axs[0].hist(lmt_test.query('response == 0').rt, bins=10)\n",
    "axs[0].set_xlim([min(lmt_test.rt), max(lmt_test.rt)])\n",
    "axs[1].hist(lmt_test.query('response == 1').rt, bins=10)\n",
    "axs[1].set_xlim([min(lmt_test.rt), max(lmt_test.rt)])"
   ]
  },
  {
   "cell_type": "markdown",
   "metadata": {
    "id": "40FQPeL8w0S0"
   },
   "source": [
    "# PyDDM"
   ]
  },
  {
   "cell_type": "code",
   "execution_count": null,
   "metadata": {
    "id": "FaFhxOzgKpFF"
   },
   "outputs": [],
   "source": [
    "lmt = pd.read_csv(f'{folder}lmt_data.csv', usecols=['subj_idx', 'response', 'rt']).dropna()\n",
    "est = pd.read_csv(f'{folder}est_data.csv', usecols=['subj_idx', 'response', 'rt']).dropna()\n",
    "nb = pd.read_csv(f'{folder}nb_data.csv', usecols=['subj_idx', 'response', 'rt']).dropna()"
   ]
  },
  {
   "cell_type": "code",
   "execution_count": null,
   "metadata": {
    "id": "6reMyWyMLUX-"
   },
   "outputs": [],
   "source": [
    "lmt.rt = lmt.rt/1000\n",
    "est.rt = est.rt/1000\n",
    "nb.rt = nb.rt/1000"
   ]
  },
  {
   "cell_type": "code",
   "execution_count": null,
   "metadata": {
    "id": "gqP64BTRLqIp"
   },
   "outputs": [],
   "source": [
    "subs = set(lmt.subj_idx.unique()).intersection(est.subj_idx.unique())\n",
    "subs = subs.intersection(nb.subj_idx.unique())"
   ]
  },
  {
   "cell_type": "code",
   "execution_count": null,
   "metadata": {
    "id": "k29PHnskLrUE"
   },
   "outputs": [],
   "source": [
    "lmt = lmt[lmt.rt < 5]"
   ]
  },
  {
   "cell_type": "code",
   "execution_count": null,
   "metadata": {
    "id": "8iADmzb5L0a8"
   },
   "outputs": [],
   "source": [
    "subs_to_use = list(subs)[:500]"
   ]
  },
  {
   "cell_type": "code",
   "execution_count": null,
   "metadata": {
    "id": "A0z4o86GkT86"
   },
   "outputs": [],
   "source": [
    "EZ_data(lmt_ez)"
   ]
  },
  {
   "cell_type": "code",
   "execution_count": null,
   "metadata": {
    "colab": {
     "base_uri": "https://localhost:8080/",
     "height": 594
    },
    "id": "701XWYWmZlvf",
    "outputId": "1533901e-f8af-4288-cc54-097c6ff11e7f"
   },
   "outputs": [
    {
     "data": {
      "image/png": "[encoded data removed]",
      "text/plain": [
       "<Figure size 792x648 with 2 Axes>"
      ]
     },
     "metadata": {},
     "output_type": "display_data"
    }
   ],
   "source": [
    "plot_corr(merged2)"
   ]
  },
  {
   "cell_type": "code",
   "execution_count": null,
   "metadata": {
    "id": "BSq7AmDi-rw8"
   },
   "outputs": [],
   "source": [
    "merged2 = lmt_ddm.merge(est_ddm, on=['subject'], suffixes=['_lmt', ''])\n",
    "merged2 = merged2.merge(nb_ddm, on=['subject'], suffixes=['_est', '_nb'])"
   ]
  },
  {
   "cell_type": "code",
   "execution_count": null,
   "metadata": {
    "colab": {
     "base_uri": "https://localhost:8080/",
     "height": 421
    },
    "id": "tH0kqnrdSJ50",
    "outputId": "b3a164ae-68fd-459c-b73b-dda0d12b470e"
   },
   "outputs": [
    {
     "data": {
      "text/html": [
       "<div>\n",
       "<style scoped>\n",
       "    .dataframe tbody tr th:only-of-type {\n",
       "        vertical-align: middle;\n",
       "    }\n",
       "\n",
       "    .dataframe tbody tr th {\n",
       "        vertical-align: top;\n",
       "    }\n",
       "\n",
       "    .dataframe thead th {\n",
       "        text-align: right;\n",
       "    }\n",
       "</style>\n",
       "<table border=\"1\" class=\"dataframe\">\n",
       "  <thead>\n",
       "    <tr style=\"text-align: right;\">\n",
       "      <th></th>\n",
       "      <th>drift_lmt</th>\n",
       "      <th>bound_lmt</th>\n",
       "      <th>nondec_lmt</th>\n",
       "      <th>lapse_lmt</th>\n",
       "      <th>drift_est</th>\n",
       "      <th>bound_est</th>\n",
       "      <th>nondec_est</th>\n",
       "      <th>lapse_est</th>\n",
       "      <th>drift_nb</th>\n",
       "      <th>bound_nb</th>\n",
       "      <th>nondec_nb</th>\n",
       "      <th>lapse_nb</th>\n",
       "    </tr>\n",
       "  </thead>\n",
       "  <tbody>\n",
       "    <tr>\n",
       "      <th>drift_lmt</th>\n",
       "      <td>1.000000</td>\n",
       "      <td>0.818555</td>\n",
       "      <td>-0.215824</td>\n",
       "      <td>0.105656</td>\n",
       "      <td>-0.015098</td>\n",
       "      <td>-0.057691</td>\n",
       "      <td>0.066348</td>\n",
       "      <td>-0.104094</td>\n",
       "      <td>0.240910</td>\n",
       "      <td>0.214127</td>\n",
       "      <td>-0.112462</td>\n",
       "      <td>-0.086292</td>\n",
       "    </tr>\n",
       "    <tr>\n",
       "      <th>bound_lmt</th>\n",
       "      <td>0.818555</td>\n",
       "      <td>1.000000</td>\n",
       "      <td>-0.436189</td>\n",
       "      <td>0.111635</td>\n",
       "      <td>-0.061343</td>\n",
       "      <td>-0.031383</td>\n",
       "      <td>0.043118</td>\n",
       "      <td>-0.059977</td>\n",
       "      <td>0.143822</td>\n",
       "      <td>0.135735</td>\n",
       "      <td>-0.039311</td>\n",
       "      <td>-0.047630</td>\n",
       "    </tr>\n",
       "    <tr>\n",
       "      <th>nondec_lmt</th>\n",
       "      <td>-0.215824</td>\n",
       "      <td>-0.436189</td>\n",
       "      <td>1.000000</td>\n",
       "      <td>0.166103</td>\n",
       "      <td>0.010936</td>\n",
       "      <td>0.015951</td>\n",
       "      <td>0.023056</td>\n",
       "      <td>-0.027283</td>\n",
       "      <td>-0.053896</td>\n",
       "      <td>-0.037066</td>\n",
       "      <td>0.024050</td>\n",
       "      <td>0.010017</td>\n",
       "    </tr>\n",
       "    <tr>\n",
       "      <th>lapse_lmt</th>\n",
       "      <td>0.105656</td>\n",
       "      <td>0.111635</td>\n",
       "      <td>0.166103</td>\n",
       "      <td>1.000000</td>\n",
       "      <td>-0.050553</td>\n",
       "      <td>-0.025402</td>\n",
       "      <td>0.006692</td>\n",
       "      <td>0.025182</td>\n",
       "      <td>0.003909</td>\n",
       "      <td>0.026928</td>\n",
       "      <td>-0.059324</td>\n",
       "      <td>0.016476</td>\n",
       "    </tr>\n",
       "    <tr>\n",
       "      <th>drift_est</th>\n",
       "      <td>-0.015098</td>\n",
       "      <td>-0.061343</td>\n",
       "      <td>0.010936</td>\n",
       "      <td>-0.050553</td>\n",
       "      <td>1.000000</td>\n",
       "      <td>0.716395</td>\n",
       "      <td>-0.615837</td>\n",
       "      <td>0.168445</td>\n",
       "      <td>0.012801</td>\n",
       "      <td>0.006144</td>\n",
       "      <td>0.018733</td>\n",
       "      <td>0.086848</td>\n",
       "    </tr>\n",
       "    <tr>\n",
       "      <th>bound_est</th>\n",
       "      <td>-0.057691</td>\n",
       "      <td>-0.031383</td>\n",
       "      <td>0.015951</td>\n",
       "      <td>-0.025402</td>\n",
       "      <td>0.716395</td>\n",
       "      <td>1.000000</td>\n",
       "      <td>-0.869670</td>\n",
       "      <td>0.413846</td>\n",
       "      <td>-0.147584</td>\n",
       "      <td>-0.121093</td>\n",
       "      <td>0.083642</td>\n",
       "      <td>0.092077</td>\n",
       "    </tr>\n",
       "    <tr>\n",
       "      <th>nondec_est</th>\n",
       "      <td>0.066348</td>\n",
       "      <td>0.043118</td>\n",
       "      <td>0.023056</td>\n",
       "      <td>0.006692</td>\n",
       "      <td>-0.615837</td>\n",
       "      <td>-0.869670</td>\n",
       "      <td>1.000000</td>\n",
       "      <td>-0.341130</td>\n",
       "      <td>0.065687</td>\n",
       "      <td>0.061953</td>\n",
       "      <td>0.012353</td>\n",
       "      <td>-0.060329</td>\n",
       "    </tr>\n",
       "    <tr>\n",
       "      <th>lapse_est</th>\n",
       "      <td>-0.104094</td>\n",
       "      <td>-0.059977</td>\n",
       "      <td>-0.027283</td>\n",
       "      <td>0.025182</td>\n",
       "      <td>0.168445</td>\n",
       "      <td>0.413846</td>\n",
       "      <td>-0.341130</td>\n",
       "      <td>1.000000</td>\n",
       "      <td>-0.103495</td>\n",
       "      <td>-0.065495</td>\n",
       "      <td>0.103065</td>\n",
       "      <td>0.072312</td>\n",
       "    </tr>\n",
       "    <tr>\n",
       "      <th>drift_nb</th>\n",
       "      <td>0.240910</td>\n",
       "      <td>0.143822</td>\n",
       "      <td>-0.053896</td>\n",
       "      <td>0.003909</td>\n",
       "      <td>0.012801</td>\n",
       "      <td>-0.147584</td>\n",
       "      <td>0.065687</td>\n",
       "      <td>-0.103495</td>\n",
       "      <td>1.000000</td>\n",
       "      <td>0.944918</td>\n",
       "      <td>-0.650425</td>\n",
       "      <td>0.279584</td>\n",
       "    </tr>\n",
       "    <tr>\n",
       "      <th>bound_nb</th>\n",
       "      <td>0.214127</td>\n",
       "      <td>0.135735</td>\n",
       "      <td>-0.037066</td>\n",
       "      <td>0.026928</td>\n",
       "      <td>0.006144</td>\n",
       "      <td>-0.121093</td>\n",
       "      <td>0.061953</td>\n",
       "      <td>-0.065495</td>\n",
       "      <td>0.944918</td>\n",
       "      <td>1.000000</td>\n",
       "      <td>-0.720543</td>\n",
       "      <td>0.282367</td>\n",
       "    </tr>\n",
       "    <tr>\n",
       "      <th>nondec_nb</th>\n",
       "      <td>-0.112462</td>\n",
       "      <td>-0.039311</td>\n",
       "      <td>0.024050</td>\n",
       "      <td>-0.059324</td>\n",
       "      <td>0.018733</td>\n",
       "      <td>0.083642</td>\n",
       "      <td>0.012353</td>\n",
       "      <td>0.103065</td>\n",
       "      <td>-0.650425</td>\n",
       "      <td>-0.720543</td>\n",
       "      <td>1.000000</td>\n",
       "      <td>-0.117740</td>\n",
       "    </tr>\n",
       "    <tr>\n",
       "      <th>lapse_nb</th>\n",
       "      <td>-0.086292</td>\n",
       "      <td>-0.047630</td>\n",
       "      <td>0.010017</td>\n",
       "      <td>0.016476</td>\n",
       "      <td>0.086848</td>\n",
       "      <td>0.092077</td>\n",
       "      <td>-0.060329</td>\n",
       "      <td>0.072312</td>\n",
       "      <td>0.279584</td>\n",
       "      <td>0.282367</td>\n",
       "      <td>-0.117740</td>\n",
       "      <td>1.000000</td>\n",
       "    </tr>\n",
       "  </tbody>\n",
       "</table>\n",
       "</div>"
      ],
      "text/plain": [
       "            drift_lmt  bound_lmt  nondec_lmt  ...  bound_nb  nondec_nb  lapse_nb\n",
       "drift_lmt    1.000000   0.818555   -0.215824  ...  0.214127  -0.112462 -0.086292\n",
       "bound_lmt    0.818555   1.000000   -0.436189  ...  0.135735  -0.039311 -0.047630\n",
       "nondec_lmt  -0.215824  -0.436189    1.000000  ... -0.037066   0.024050  0.010017\n",
       "lapse_lmt    0.105656   0.111635    0.166103  ...  0.026928  -0.059324  0.016476\n",
       "drift_est   -0.015098  -0.061343    0.010936  ...  0.006144   0.018733  0.086848\n",
       "bound_est   -0.057691  -0.031383    0.015951  ... -0.121093   0.083642  0.092077\n",
       "nondec_est   0.066348   0.043118    0.023056  ...  0.061953   0.012353 -0.060329\n",
       "lapse_est   -0.104094  -0.059977   -0.027283  ... -0.065495   0.103065  0.072312\n",
       "drift_nb     0.240910   0.143822   -0.053896  ...  0.944918  -0.650425  0.279584\n",
       "bound_nb     0.214127   0.135735   -0.037066  ...  1.000000  -0.720543  0.282367\n",
       "nondec_nb   -0.112462  -0.039311    0.024050  ... -0.720543   1.000000 -0.117740\n",
       "lapse_nb    -0.086292  -0.047630    0.010017  ...  0.282367  -0.117740  1.000000\n",
       "\n",
       "[12 rows x 12 columns]"
      ]
     },
     "execution_count": 309,
     "metadata": {},
     "output_type": "execute_result"
    }
   ],
   "source": [
    "merged2.corr()"
   ]
  },
  {
   "cell_type": "code",
   "execution_count": null,
   "metadata": {
    "colab": {
     "base_uri": "https://localhost:8080/",
     "height": 421
    },
    "id": "yumxXvfU_Ijj",
    "outputId": "f290f8dd-bc17-4d80-97d9-fa026c3c7d31"
   },
   "outputs": [
    {
     "data": {
      "text/html": [
       "<div>\n",
       "<style scoped>\n",
       "    .dataframe tbody tr th:only-of-type {\n",
       "        vertical-align: middle;\n",
       "    }\n",
       "\n",
       "    .dataframe tbody tr th {\n",
       "        vertical-align: top;\n",
       "    }\n",
       "\n",
       "    .dataframe thead th {\n",
       "        text-align: right;\n",
       "    }\n",
       "</style>\n",
       "<table border=\"1\" class=\"dataframe\">\n",
       "  <thead>\n",
       "    <tr style=\"text-align: right;\">\n",
       "      <th></th>\n",
       "      <th>drift_lmt</th>\n",
       "      <th>bound_lmt</th>\n",
       "      <th>nondec_lmt</th>\n",
       "      <th>lapse_lmt</th>\n",
       "      <th>drift_est</th>\n",
       "      <th>bound_est</th>\n",
       "      <th>nondec_est</th>\n",
       "      <th>lapse_est</th>\n",
       "      <th>drift_nb</th>\n",
       "      <th>bound_nb</th>\n",
       "      <th>nondec_nb</th>\n",
       "      <th>lapse_nb</th>\n",
       "    </tr>\n",
       "  </thead>\n",
       "  <tbody>\n",
       "    <tr>\n",
       "      <th>drift_lmt</th>\n",
       "      <td>1.000000</td>\n",
       "      <td>0.817757</td>\n",
       "      <td>-0.245594</td>\n",
       "      <td>-0.107373</td>\n",
       "      <td>0.004310</td>\n",
       "      <td>-0.049605</td>\n",
       "      <td>0.065384</td>\n",
       "      <td>-0.073701</td>\n",
       "      <td>0.281430</td>\n",
       "      <td>0.262885</td>\n",
       "      <td>-0.112381</td>\n",
       "      <td>-0.167828</td>\n",
       "    </tr>\n",
       "    <tr>\n",
       "      <th>bound_lmt</th>\n",
       "      <td>0.817757</td>\n",
       "      <td>1.000000</td>\n",
       "      <td>-0.467539</td>\n",
       "      <td>-0.093451</td>\n",
       "      <td>-0.033355</td>\n",
       "      <td>-0.016644</td>\n",
       "      <td>0.036715</td>\n",
       "      <td>-0.067667</td>\n",
       "      <td>0.165893</td>\n",
       "      <td>0.172597</td>\n",
       "      <td>-0.018755</td>\n",
       "      <td>-0.099834</td>\n",
       "    </tr>\n",
       "    <tr>\n",
       "      <th>nondec_lmt</th>\n",
       "      <td>-0.245594</td>\n",
       "      <td>-0.467539</td>\n",
       "      <td>1.000000</td>\n",
       "      <td>0.002484</td>\n",
       "      <td>-0.020375</td>\n",
       "      <td>-0.012786</td>\n",
       "      <td>0.055670</td>\n",
       "      <td>0.000896</td>\n",
       "      <td>-0.082401</td>\n",
       "      <td>-0.082408</td>\n",
       "      <td>0.037420</td>\n",
       "      <td>0.040023</td>\n",
       "    </tr>\n",
       "    <tr>\n",
       "      <th>lapse_lmt</th>\n",
       "      <td>-0.107373</td>\n",
       "      <td>-0.093451</td>\n",
       "      <td>0.002484</td>\n",
       "      <td>1.000000</td>\n",
       "      <td>-0.063889</td>\n",
       "      <td>-0.018531</td>\n",
       "      <td>-0.036847</td>\n",
       "      <td>0.025999</td>\n",
       "      <td>-0.024348</td>\n",
       "      <td>-0.003656</td>\n",
       "      <td>-0.045715</td>\n",
       "      <td>0.030502</td>\n",
       "    </tr>\n",
       "    <tr>\n",
       "      <th>drift_est</th>\n",
       "      <td>0.004310</td>\n",
       "      <td>-0.033355</td>\n",
       "      <td>-0.020375</td>\n",
       "      <td>-0.063889</td>\n",
       "      <td>1.000000</td>\n",
       "      <td>0.715681</td>\n",
       "      <td>-0.590923</td>\n",
       "      <td>-0.108579</td>\n",
       "      <td>-0.008939</td>\n",
       "      <td>-0.021996</td>\n",
       "      <td>0.020786</td>\n",
       "      <td>-0.042426</td>\n",
       "    </tr>\n",
       "    <tr>\n",
       "      <th>bound_est</th>\n",
       "      <td>-0.049605</td>\n",
       "      <td>-0.016644</td>\n",
       "      <td>-0.012786</td>\n",
       "      <td>-0.018531</td>\n",
       "      <td>0.715681</td>\n",
       "      <td>1.000000</td>\n",
       "      <td>-0.854018</td>\n",
       "      <td>-0.156794</td>\n",
       "      <td>-0.161361</td>\n",
       "      <td>-0.129643</td>\n",
       "      <td>0.051686</td>\n",
       "      <td>0.053161</td>\n",
       "    </tr>\n",
       "    <tr>\n",
       "      <th>nondec_est</th>\n",
       "      <td>0.065384</td>\n",
       "      <td>0.036715</td>\n",
       "      <td>0.055670</td>\n",
       "      <td>-0.036847</td>\n",
       "      <td>-0.590923</td>\n",
       "      <td>-0.854018</td>\n",
       "      <td>1.000000</td>\n",
       "      <td>-0.016410</td>\n",
       "      <td>0.090296</td>\n",
       "      <td>0.088461</td>\n",
       "      <td>0.022121</td>\n",
       "      <td>-0.039137</td>\n",
       "    </tr>\n",
       "    <tr>\n",
       "      <th>lapse_est</th>\n",
       "      <td>-0.073701</td>\n",
       "      <td>-0.067667</td>\n",
       "      <td>0.000896</td>\n",
       "      <td>0.025999</td>\n",
       "      <td>-0.108579</td>\n",
       "      <td>-0.156794</td>\n",
       "      <td>-0.016410</td>\n",
       "      <td>1.000000</td>\n",
       "      <td>0.087316</td>\n",
       "      <td>0.080677</td>\n",
       "      <td>-0.087365</td>\n",
       "      <td>-0.023827</td>\n",
       "    </tr>\n",
       "    <tr>\n",
       "      <th>drift_nb</th>\n",
       "      <td>0.281430</td>\n",
       "      <td>0.165893</td>\n",
       "      <td>-0.082401</td>\n",
       "      <td>-0.024348</td>\n",
       "      <td>-0.008939</td>\n",
       "      <td>-0.161361</td>\n",
       "      <td>0.090296</td>\n",
       "      <td>0.087316</td>\n",
       "      <td>1.000000</td>\n",
       "      <td>0.932451</td>\n",
       "      <td>-0.579187</td>\n",
       "      <td>-0.348484</td>\n",
       "    </tr>\n",
       "    <tr>\n",
       "      <th>bound_nb</th>\n",
       "      <td>0.262885</td>\n",
       "      <td>0.172597</td>\n",
       "      <td>-0.082408</td>\n",
       "      <td>-0.003656</td>\n",
       "      <td>-0.021996</td>\n",
       "      <td>-0.129643</td>\n",
       "      <td>0.088461</td>\n",
       "      <td>0.080677</td>\n",
       "      <td>0.932451</td>\n",
       "      <td>1.000000</td>\n",
       "      <td>-0.670095</td>\n",
       "      <td>-0.340607</td>\n",
       "    </tr>\n",
       "    <tr>\n",
       "      <th>nondec_nb</th>\n",
       "      <td>-0.112381</td>\n",
       "      <td>-0.018755</td>\n",
       "      <td>0.037420</td>\n",
       "      <td>-0.045715</td>\n",
       "      <td>0.020786</td>\n",
       "      <td>0.051686</td>\n",
       "      <td>0.022121</td>\n",
       "      <td>-0.087365</td>\n",
       "      <td>-0.579187</td>\n",
       "      <td>-0.670095</td>\n",
       "      <td>1.000000</td>\n",
       "      <td>0.224374</td>\n",
       "    </tr>\n",
       "    <tr>\n",
       "      <th>lapse_nb</th>\n",
       "      <td>-0.167828</td>\n",
       "      <td>-0.099834</td>\n",
       "      <td>0.040023</td>\n",
       "      <td>0.030502</td>\n",
       "      <td>-0.042426</td>\n",
       "      <td>0.053161</td>\n",
       "      <td>-0.039137</td>\n",
       "      <td>-0.023827</td>\n",
       "      <td>-0.348484</td>\n",
       "      <td>-0.340607</td>\n",
       "      <td>0.224374</td>\n",
       "      <td>1.000000</td>\n",
       "    </tr>\n",
       "  </tbody>\n",
       "</table>\n",
       "</div>"
      ],
      "text/plain": [
       "            drift_lmt  bound_lmt  nondec_lmt  ...  bound_nb  nondec_nb  lapse_nb\n",
       "drift_lmt    1.000000   0.817757   -0.245594  ...  0.262885  -0.112381 -0.167828\n",
       "bound_lmt    0.817757   1.000000   -0.467539  ...  0.172597  -0.018755 -0.099834\n",
       "nondec_lmt  -0.245594  -0.467539    1.000000  ... -0.082408   0.037420  0.040023\n",
       "lapse_lmt   -0.107373  -0.093451    0.002484  ... -0.003656  -0.045715  0.030502\n",
       "drift_est    0.004310  -0.033355   -0.020375  ... -0.021996   0.020786 -0.042426\n",
       "bound_est   -0.049605  -0.016644   -0.012786  ... -0.129643   0.051686  0.053161\n",
       "nondec_est   0.065384   0.036715    0.055670  ...  0.088461   0.022121 -0.039137\n",
       "lapse_est   -0.073701  -0.067667    0.000896  ...  0.080677  -0.087365 -0.023827\n",
       "drift_nb     0.281430   0.165893   -0.082401  ...  0.932451  -0.579187 -0.348484\n",
       "bound_nb     0.262885   0.172597   -0.082408  ...  1.000000  -0.670095 -0.340607\n",
       "nondec_nb   -0.112381  -0.018755    0.037420  ... -0.670095   1.000000  0.224374\n",
       "lapse_nb    -0.167828  -0.099834    0.040023  ... -0.340607   0.224374  1.000000\n",
       "\n",
       "[12 rows x 12 columns]"
      ]
     },
     "execution_count": 308,
     "metadata": {},
     "output_type": "execute_result"
    }
   ],
   "source": [
    "merged.corr()"
   ]
  },
  {
   "cell_type": "code",
   "execution_count": null,
   "metadata": {
    "id": "Elbftbi2yoM5"
   },
   "outputs": [],
   "source": [
    "from ddm.models import BoundCollapsingExponential, LossRobustBIC, BoundCollapsingLinear"
   ]
  },
  {
   "cell_type": "code",
   "execution_count": null,
   "metadata": {
    "id": "4VZurY7xQMJ5"
   },
   "outputs": [],
   "source": [
    "ddm_cols = ['subject', 'drift', 'bound', 'nondec','lapse']\n",
    "est_ddm = pd.DataFrame(columns=ddm_cols)\n",
    "for sub in subs_to_use:\n",
    "  df = est.query(f'subj_idx == \"{sub}\"')[['response', 'rt']]\n",
    "  if df.shape[0] > 45:\n",
    "    sample = Sample.from_pandas_dataframe(df, rt_column_name=\"rt\", correct_column_name=\"response\")\n",
    "    model = fit_adjust_model(sample=sample, model=model_est, lossfunction=LossRobustBIC, verbose=False)\n",
    "    params = model.get_model_parameters()\n",
    "    row = pd.Series([sub] + [np.float(params[i]) for i in range(4)], index=ddm_cols)\n",
    "    est_ddm = est_ddm.append(row, ignore_index=True)"
   ]
  },
  {
   "cell_type": "code",
   "execution_count": null,
   "metadata": {
    "id": "EwqKOJqUQMUz"
   },
   "outputs": [],
   "source": [
    "ddm_cols = ['subject', 'drift', 'bound', 'nondec','lapse']\n",
    "nb_ddm = pd.DataFrame(columns=ddm_cols)\n",
    "for sub in subs_to_use:\n",
    "  df = nb.query(f'subj_idx == \"{sub}\"')[['response', 'rt']]\n",
    "  if df.shape[0] > 60:\n",
    "    sample = Sample.from_pandas_dataframe(df, rt_column_name=\"rt\", correct_column_name=\"response\")\n",
    "    model = fit_adjust_model(sample=sample, model=model_nb, lossfunction = LossRobustBIC, verbose=False)\n",
    "    params = model.get_model_parameters()\n",
    "    row = pd.Series([sub] + [np.float(params[i]) for i in range(4)], index=ddm_cols)\n",
    "    nb_ddm = nb_ddm.append(row, ignore_index=True)"
   ]
  },
  {
   "cell_type": "code",
   "execution_count": null,
   "metadata": {
    "id": "dcD9DcLgG9tD"
   },
   "outputs": [],
   "source": [
    "ddm_cols = ['subject', 'drift', 'bound', 'nondec','lapse']\n",
    "lmt_ddm = pd.DataFrame(columns=ddm_cols)\n",
    "for sub in subs_to_use:\n",
    "  df = lmt.query(f'subj_idx == \"{sub}\"')[['response', 'rt']]\n",
    "  if df.shape[0] > 24:\n",
    "    sample = Sample.from_pandas_dataframe(df, rt_column_name=\"rt\", correct_column_name=\"response\")\n",
    "    model = fit_adjust_model(sample=sample, model=model_lmt, lossfunction=LossRobustBIC, verbose=False)\n",
    "    params = model.get_model_parameters()\n",
    "    row = pd.Series([sub] + [np.float(params[i]) for i in range(4)], index=ddm_cols)\n",
    "    lmt_ddm = lmt_ddm.append(row, ignore_index=True)"
   ]
  },
  {
   "cell_type": "code",
   "execution_count": null,
   "metadata": {
    "colab": {
     "base_uri": "https://localhost:8080/"
    },
    "id": "g029RbNBa1nE",
    "outputId": "f6c2d8d6-8260-41ec-ad2e-ebf3cd3433ce"
   },
   "outputs": [
    {
     "data": {
      "text/plain": [
       "True"
      ]
     },
     "execution_count": 313,
     "metadata": {},
     "output_type": "execute_result"
    }
   ],
   "source": [
    "model.has_analytical_solution()"
   ]
  },
  {
   "cell_type": "code",
   "execution_count": null,
   "metadata": {
    "colab": {
     "base_uri": "https://localhost:8080/"
    },
    "id": "-0zPYxVQNifx",
    "outputId": "44899b48-28e5-4fc2-c399-c0baad4c7f03"
   },
   "outputs": [
    {
     "name": "stdout",
     "output_type": "stream",
     "text": [
      "Params [0.35658351 1.13483616 1.58460404 0.04040551] gave 123.92330552075721\n",
      "Params [0.91353228 1.53143971 1.60995161 0.03804417] gave 112.07597518953199\n",
      "Params [0.5313425  1.32405578 1.69799204 0.01      ] gave 119.09021882146345\n",
      "Params [0.1        1.10494326 1.06170043 0.01      ] gave 130.2876487725488\n",
      "Params [0.39737277 1.27540316 1.41385351 0.01      ] gave 118.62931675217828\n",
      "Params [0.64488631 1.35005221 1.56435171 0.04472841] gave 112.16432047566555\n",
      "Params [0.1        1.09368971 1.30218527 0.01      ] gave 110.70892807745193\n",
      "Params [0.33136332 1.36558293 1.96465652 0.01      ] gave 120.33444858778489\n",
      "Params [0.46096341 1.40708724 1.4496259  0.01      ] gave 116.23597323170166\n",
      "Params [0.1        0.97418958 1.41733192 0.01      ] gave 112.77360821039201\n"
     ]
    }
   ],
   "source": [
    "ddm_cols = ['subject', 'drift', 'bound', 'nondec','lapse']\n",
    "lmt_ddm = pd.DataFrame(columns=ddm_cols)\n",
    "for sub in subs_to_use[:10]:\n",
    "  df = lmt.query(f'subj_idx == \"{sub}\"')[['response', 'rt']]\n",
    "  if df.shape[0] > 24:\n",
    "    sample = Sample.from_pandas_dataframe(df, rt_column_name=\"rt\", correct_column_name=\"response\")\n",
    "    model = fit_adjust_model(sample=sample, model=model_lmt, lossfunction=LossRobustBIC, verbose=False)\n",
    "    params = model.get_model_parameters()\n",
    "    row = pd.Series([sub] + [np.float(params[i]) for i in range(4)], index=ddm_cols)\n",
    "    lmt_ddm = lmt_ddm.append(row, ignore_index=True)"
   ]
  },
  {
   "cell_type": "code",
   "execution_count": null,
   "metadata": {
    "id": "isnNrKnH0E1W"
   },
   "outputs": [],
   "source": [
    "sample = Sample.from_pandas_dataframe(lmt_test, rt_column_name=\"rt\", correct_column_name=\"response\")"
   ]
  },
  {
   "cell_type": "code",
   "execution_count": null,
   "metadata": {
    "id": "VWzw3IhuF_gl"
   },
   "outputs": [],
   "source": [
    "model_lmt = Model(name='LMT', \n",
    "                  drift=DriftConstant(drift=Fittable(minval=.1, maxval=5)),\n",
    "                  noise=NoiseConstant(noise=1),\n",
    "                  bound=BoundConstant(B=Fittable(minval=0.5, maxval=5)),\n",
    "                  overlay=OverlayChain(overlays=[OverlayNonDecision(nondectime=Fittable(minval=.1, maxval=5)),\n",
    "                                                OverlayPoissonMixture(pmixturecoef=Fittable(minval=0.01, maxval=.05), rate=1)]),\n",
    "                 dx=.001, dt=.01, T_dur=5)"
   ]
  },
  {
   "cell_type": "code",
   "execution_count": null,
   "metadata": {
    "id": "GTotxhaZPS22"
   },
   "outputs": [],
   "source": [
    "model_est = Model(name='Stroop', \n",
    "                  drift=DriftConstant(drift=Fittable(minval=.1, maxval=5)),\n",
    "                  noise=NoiseConstant(noise=1),\n",
    "                  bound=BoundConstant(B=Fittable(minval=0.5, maxval=5)),\n",
    "                  overlay=OverlayChain(overlays=[OverlayNonDecision(nondectime=Fittable(minval=.1, maxval=5)),\n",
    "                                                OverlayPoissonMixture(pmixturecoef=Fittable(minval=0.01, maxval=.05), rate=1)]),\n",
    "                 dx=.001, dt=.01, T_dur=7)"
   ]
  },
  {
   "cell_type": "code",
   "execution_count": null,
   "metadata": {
    "id": "FRgBFzHIPTHl"
   },
   "outputs": [],
   "source": [
    "model_nb = Model(name='NB', \n",
    "                  drift=DriftConstant(drift=Fittable(minval=.1, maxval=5)),\n",
    "                  noise=NoiseConstant(noise=1),\n",
    "                  bound=BoundConstant(B=Fittable(minval=0.5, maxval=5)),\n",
    "                  overlay=OverlayChain(overlays=[OverlayNonDecision(nondectime=Fittable(minval=.1, maxval=5)),\n",
    "                                                OverlayPoissonMixture(pmixturecoef=Fittable(minval=0.01, maxval=.05), rate=1)]),\n",
    "                 dx=.001, dt=.01, T_dur=2)"
   ]
  },
  {
   "cell_type": "markdown",
   "metadata": {
    "id": "mEIscsJNxN5E"
   },
   "source": []
  },
  {
   "cell_type": "code",
   "execution_count": null,
   "metadata": {
    "colab": {
     "base_uri": "https://localhost:8080/"
    },
    "id": "E1cMh73brdFM",
    "outputId": "788f6e6a-7885-4bd6-cea4-88a5e675736a"
   },
   "outputs": [
    {
     "name": "stdout",
     "output_type": "stream",
     "text": [
      "Params [0.29993168 0.97971286 1.82876002 0.5       ] gave 47.4339130106209\n"
     ]
    },
    {
     "data": {
      "text/plain": [
       "Model(name='LMT', drift=DriftConstant(drift=Fitted(0.299931676875417, minval=0.1, maxval=5)), noise=NoiseConstant(noise=1), bound=BoundConstant(B=Fitted(0.9797128560058472, minval=0.5, maxval=5)), IC=ICPointSourceCenter(), overlay=OverlayChain(overlays=[OverlayNonDecision(nondectime=Fitted(1.8287600168862719, minval=0.1, maxval=5)), OverlayPoissonMixture(pmixturecoef=0.02, rate=Fitted(0.5, minval=0.5, maxval=1.5))]), dx=0.01, dt=0.01, T_dur=5, fitresult=FitResult(fitting_method='differential_evolution', method='auto', loss='Negative log likelihood', value=47.4339130106209, nparams=4, samplesize=29, mess=''))"
      ]
     },
     "execution_count": 198,
     "metadata": {},
     "output_type": "execute_result"
    }
   ],
   "source": [
    "# Fitting this will also be fast because PyDDM can automatically\n",
    "# determine that DriftCoherence will allow an analytical solution.\n",
    "fit_adjust_model(sample=sample, model=model_lmt, verbose=False)"
   ]
  },
  {
   "cell_type": "code",
   "execution_count": null,
   "metadata": {
    "id": "hYJdJPT_IfCT"
   },
   "outputs": [],
   "source": [
    "params = fit_model.get_model_parameters()"
   ]
  },
  {
   "cell_type": "code",
   "execution_count": null,
   "metadata": {
    "colab": {
     "base_uri": "https://localhost:8080/"
    },
    "id": "zgycso2kICHG",
    "outputId": "1eedcc64-39f3-41b8-b916-eff4fec3cd60"
   },
   "outputs": [
    {
     "data": {
      "text/plain": [
       "['lists', 0.299931676875417, 0.9797128560058472, 1.8287600168862719, 0.5]"
      ]
     },
     "execution_count": 240,
     "metadata": {},
     "output_type": "execute_result"
    }
   ],
   "source": [
    "['lists'] + [np.float(params[i]) for i in range(4)]"
   ]
  },
  {
   "cell_type": "code",
   "execution_count": null,
   "metadata": {
    "colab": {
     "base_uri": "https://localhost:8080/"
    },
    "id": "Ej3cVGNdIS4u",
    "outputId": "ecf32794-0365-4b47-c35b-b39bfabea86e"
   },
   "outputs": [
    {
     "data": {
      "text/plain": [
       "True"
      ]
     },
     "execution_count": 197,
     "metadata": {},
     "output_type": "execute_result"
    }
   ],
   "source": [
    "fit_model.has_analytical_solution()"
   ]
  },
  {
   "cell_type": "code",
   "execution_count": null,
   "metadata": {
    "colab": {
     "base_uri": "https://localhost:8080/",
     "height": 567
    },
    "id": "v69kxgrtW2or",
    "outputId": "3e6c4e38-01b0-472a-f4bf-0feaaa7db271"
   },
   "outputs": [
    {
     "data": {
      "image/png": "[encoded data removed]",
      "text/plain": [
       "<Figure size 864x576 with 2 Axes>"
      ]
     },
     "metadata": {
      "needs_background": "light"
     },
     "output_type": "display_data"
    }
   ],
   "source": [
    "import ddm.plot\n",
    "ddm.plot.plot_fit_diagnostics(model=fit_model, sample=sample)\n",
    "plt.savefig(\"roitman-fit.png\")\n",
    "plt.show()"
   ]
  },
  {
   "cell_type": "code",
   "execution_count": null,
   "metadata": {
    "id": "c20x7iQdHQ1t"
   },
   "outputs": [],
   "source": [
    "import ddm.plot\n",
    "model = ddm.Model(drift=DriftLeak(drift=ddm.Fittable(minval=0, maxval=3, default=.1),\n",
    "                                  leak=ddm.Fittable(minval=-2, maxval=2, default=1)),  \n",
    "                  noise=ddm.NoiseConstant(noise=ddm.Fittable(minval=.001, maxval=2, default=.5)),\n",
    "                  bound=ddm.BoundCollapsingExponential(B=ddm.Fittable(minval=.5, maxval=1.5, default=1),\n",
    "                                                       tau=ddm.Fittable(minval=.1, maxval=5, default=1)),\n",
    "                  dx=.01, dt=.01, T_dur=2)\n",
    "ddm.plot.model_gui_jupyter(model=model)"
   ]
  },
  {
   "cell_type": "code",
   "execution_count": null,
   "metadata": {
    "colab": {
     "base_uri": "https://localhost:8080/",
     "height": 672
    },
    "id": "THR18QP8-VL2",
    "outputId": "a33fae76-88c4-4ec9-dd30-78160b9a0a25"
   },
   "outputs": [
    {
     "data": {
      "image/png": "[encoded data removed]",
      "text/plain": [
       "<Figure size 792x648 with 2 Axes>"
      ]
     },
     "metadata": {},
     "output_type": "display_data"
    }
   ],
   "source": [
    "plot_corr(test_b)"
   ]
  },
  {
   "cell_type": "markdown",
   "metadata": {
    "id": "vSf3NmBtxne8"
   },
   "source": [
    "# HDDM"
   ]
  },
  {
   "cell_type": "code",
   "execution_count": null,
   "metadata": {
    "id": "7AkhUPePXFS-"
   },
   "outputs": [],
   "source": [
    "def extract_dvs(m):\n",
    "  dvs = {var: m.nodes_db.loc[m.nodes_db.index.str.contains(var + '_subj'), 'mean'] for var in ['a', 'v', 't']}\n",
    "  subjects = [index.split('.')[1] for index in dvs['a'].index]\n",
    "  n = len(subjects)\n",
    "  v = [dvs['v'][i] for i in range(n)]\n",
    "  a = [dvs['a'][i] for i in range(n)]\n",
    "  t = [dvs['t'][i] for i in range(n)]\n",
    "  df = pd.DataFrame(list(zip(subjects, v, a, t)), columns=['subject', 'drift', 'thresh', 'nondec'])\n",
    "  return df"
   ]
  },
  {
   "cell_type": "code",
   "execution_count": null,
   "metadata": {
    "colab": {
     "base_uri": "https://localhost:8080/",
     "height": 204
    },
    "id": "0coElz_vn8uE",
    "outputId": "0ea6fcc7-68ef-4b49-a535-47163edd0017"
   },
   "outputs": [
    {
     "data": {
      "text/html": [
       "<div>\n",
       "<style scoped>\n",
       "    .dataframe tbody tr th:only-of-type {\n",
       "        vertical-align: middle;\n",
       "    }\n",
       "\n",
       "    .dataframe tbody tr th {\n",
       "        vertical-align: top;\n",
       "    }\n",
       "\n",
       "    .dataframe thead th {\n",
       "        text-align: right;\n",
       "    }\n",
       "</style>\n",
       "<table border=\"1\" class=\"dataframe\">\n",
       "  <thead>\n",
       "    <tr style=\"text-align: right;\">\n",
       "      <th></th>\n",
       "      <th>subj_idx</th>\n",
       "      <th>response</th>\n",
       "      <th>rt</th>\n",
       "    </tr>\n",
       "  </thead>\n",
       "  <tbody>\n",
       "    <tr>\n",
       "      <th>0</th>\n",
       "      <td>NDAR_INVWWWV2AKG</td>\n",
       "      <td>1.0</td>\n",
       "      <td>2.542</td>\n",
       "    </tr>\n",
       "    <tr>\n",
       "      <th>1</th>\n",
       "      <td>NDAR_INVWWWV2AKG</td>\n",
       "      <td>1.0</td>\n",
       "      <td>2.198</td>\n",
       "    </tr>\n",
       "    <tr>\n",
       "      <th>2</th>\n",
       "      <td>NDAR_INVWWWV2AKG</td>\n",
       "      <td>1.0</td>\n",
       "      <td>2.231</td>\n",
       "    </tr>\n",
       "    <tr>\n",
       "      <th>3</th>\n",
       "      <td>NDAR_INVWWWV2AKG</td>\n",
       "      <td>1.0</td>\n",
       "      <td>2.856</td>\n",
       "    </tr>\n",
       "    <tr>\n",
       "      <th>4</th>\n",
       "      <td>NDAR_INVWWWV2AKG</td>\n",
       "      <td>0.0</td>\n",
       "      <td>1.700</td>\n",
       "    </tr>\n",
       "  </tbody>\n",
       "</table>\n",
       "</div>"
      ],
      "text/plain": [
       "           subj_idx  response     rt\n",
       "0  NDAR_INVWWWV2AKG       1.0  2.542\n",
       "1  NDAR_INVWWWV2AKG       1.0  2.198\n",
       "2  NDAR_INVWWWV2AKG       1.0  2.231\n",
       "3  NDAR_INVWWWV2AKG       1.0  2.856\n",
       "4  NDAR_INVWWWV2AKG       0.0  1.700"
      ]
     },
     "execution_count": 214,
     "metadata": {},
     "output_type": "execute_result"
    }
   ],
   "source": [
    "lmt.head()"
   ]
  },
  {
   "cell_type": "code",
   "execution_count": null,
   "metadata": {
    "id": "JnCCW7CLn3kl"
   },
   "outputs": [],
   "source": [
    "lmt = pd.read_csv(f'{folder}lmt_data.csv', usecols=['subj_idx', 'response', 'rt'])"
   ]
  },
  {
   "cell_type": "code",
   "execution_count": null,
   "metadata": {
    "id": "MBT0t2WU3qmX"
   },
   "outputs": [],
   "source": [
    "lmt = pd.read_csv(f'{folder}lmt_data.csv', usecols=['subj_idx', 'response', 'rt'])\n",
    "sst = pd.read_csv(f'{folder}sst_data.csv', usecols=['subj_idx', 'response', 'rt'])\n",
    "est = pd.read_csv(f'{folder}est_data.csv', usecols=['subj_idx', 'response', 'rt'])\n",
    "nb = pd.read_csv(f'{folder}nb_data.csv', usecols=['subj_idx', 'response', 'rt'])"
   ]
  },
  {
   "cell_type": "code",
   "execution_count": null,
   "metadata": {
    "id": "UwMOGbak3r7d"
   },
   "outputs": [],
   "source": [
    "subs = set(lmt.subj_idx.unique()).intersection(sst.subj_idx.unique())\n",
    "subs = subs.intersection(est.subj_idx.unique())\n",
    "subs = subs.intersection(nb.subj_idx.unique())\n",
    "random.seed = 1\n",
    "idx = random.sample(range(len(subs)), 100)\n",
    "subset = np.array(list(subs))[idx]"
   ]
  },
  {
   "cell_type": "code",
   "execution_count": null,
   "metadata": {
    "id": "Q_lEmCG05nRW"
   },
   "outputs": [],
   "source": [
    "random.seed = 1\n",
    "idx = random.sample(range(len(subs)), 100)\n",
    "subset = np.array(list(subs))[idx]"
   ]
  },
  {
   "cell_type": "code",
   "execution_count": null,
   "metadata": {
    "id": "LVxhID-jcTwV"
   },
   "outputs": [],
   "source": [
    "lmt_sample = lmt[lmt.subj_idx.isin(subset)]\n",
    "lmt_model = hddm.HDDM(lmt_sample)\n",
    "lmt_model.find_starting_values()\n",
    "lmt_model.sample(2000, burn=20)"
   ]
  },
  {
   "cell_type": "code",
   "execution_count": null,
   "metadata": {
    "id": "yTiQeZ-sd9th"
   },
   "outputs": [],
   "source": [
    "lmt_hddm = extract_dvs(lmt_model)\n",
    "lmt_hddm.to_csv('lmt.csv')\n",
    "files.download('lmt.csv')"
   ]
  },
  {
   "cell_type": "code",
   "execution_count": null,
   "metadata": {
    "id": "1P6J9Nv6lhXr"
   },
   "outputs": [],
   "source": [
    "lmt_model.plot_posteriors()"
   ]
  },
  {
   "cell_type": "code",
   "execution_count": null,
   "metadata": {
    "id": "w_QWkgGWeg9O"
   },
   "outputs": [],
   "source": [
    "sst_sample = sst[sst.subj_idx.isin(subset)]\n",
    "sst_model = hddm.HDDM(sst_sample)\n",
    "sst_model.find_starting_values()\n",
    "sst_model.sample(2000, burn=200)"
   ]
  },
  {
   "cell_type": "code",
   "execution_count": null,
   "metadata": {
    "id": "t21-lAIkevdf"
   },
   "outputs": [],
   "source": [
    "sst_hddm = extract_dvs(sst_model)"
   ]
  },
  {
   "cell_type": "code",
   "execution_count": null,
   "metadata": {
    "id": "mTLkwfc0jZuV"
   },
   "outputs": [],
   "source": [
    "est_sample = est[est.subj_idx.isin(subset)]\n",
    "est_model = hddm.HDDM(est_sample)\n",
    "est_model.find_starting_values()\n",
    "est_model.sample(2000, burn=200)"
   ]
  },
  {
   "cell_type": "code",
   "execution_count": null,
   "metadata": {
    "id": "G1fY7esmjaXH"
   },
   "outputs": [],
   "source": [
    "est_hddm = extract_dvs(est_model)"
   ]
  },
  {
   "cell_type": "code",
   "execution_count": null,
   "metadata": {
    "id": "5XUdgVw4jbB-"
   },
   "outputs": [],
   "source": [
    "nb_sample = nb[nb.subj_idx.isin(subset)]\n",
    "nb_model = hddm.HDDM(nb_sample)"
   ]
  },
  {
   "cell_type": "code",
   "execution_count": null,
   "metadata": {
    "id": "g8zMJq6KjzV5"
   },
   "outputs": [],
   "source": [
    "nb_hddm = extract_dvs(nb_model)"
   ]
  }
 ],
 "metadata": {
  "accelerator": "GPU",
  "colab": {
   "collapsed_sections": [],
   "machine_shape": "hm",
   "name": "data_analysis_ddm.ipynb",
   "provenance": []
  },
  "kernelspec": {
   "display_name": "Python 3 (ipykernel)",
   "language": "python",
   "name": "python3"
  },
  "language_info": {
   "codemirror_mode": {
    "name": "ipython",
    "version": 3
   },
   "file_extension": ".py",
   "mimetype": "text/x-python",
   "name": "python",
   "nbconvert_exporter": "python",
   "pygments_lexer": "ipython3",
   "version": "3.9.7"
  }
 },
 "nbformat": 4,
 "nbformat_minor": 1
}
